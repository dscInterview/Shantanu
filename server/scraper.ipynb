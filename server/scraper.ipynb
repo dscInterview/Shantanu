{
 "cells": [
  {
   "cell_type": "code",
   "execution_count": 1,
   "metadata": {},
   "outputs": [
    {
     "name": "stdout",
     "output_type": "stream",
     "text": [
      "Defaulting to user installation because normal site-packages is not writeable\n",
      "Requirement already satisfied: scrapy in /home/catnip/.local/lib/python3.10/site-packages (2.12.0)\n",
      "Requirement already satisfied: Twisted>=21.7.0 in /home/catnip/.local/lib/python3.10/site-packages (from scrapy) (24.11.0)\n",
      "Requirement already satisfied: cryptography>=37.0.0 in /home/catnip/.local/lib/python3.10/site-packages (from scrapy) (44.0.0)\n",
      "Requirement already satisfied: cssselect>=0.9.1 in /home/catnip/.local/lib/python3.10/site-packages (from scrapy) (1.2.0)\n",
      "Requirement already satisfied: itemloaders>=1.0.1 in /home/catnip/.local/lib/python3.10/site-packages (from scrapy) (1.3.2)\n",
      "Requirement already satisfied: parsel>=1.5.0 in /home/catnip/.local/lib/python3.10/site-packages (from scrapy) (1.9.1)\n",
      "Requirement already satisfied: pyOpenSSL>=22.0.0 in /home/catnip/.local/lib/python3.10/site-packages (from scrapy) (24.3.0)\n",
      "Requirement already satisfied: queuelib>=1.4.2 in /home/catnip/.local/lib/python3.10/site-packages (from scrapy) (1.7.0)\n",
      "Requirement already satisfied: service-identity>=18.1.0 in /home/catnip/.local/lib/python3.10/site-packages (from scrapy) (24.2.0)\n",
      "Requirement already satisfied: w3lib>=1.17.0 in /home/catnip/.local/lib/python3.10/site-packages (from scrapy) (2.2.1)\n",
      "Requirement already satisfied: zope.interface>=5.1.0 in /home/catnip/.local/lib/python3.10/site-packages (from scrapy) (7.2)\n",
      "Requirement already satisfied: protego>=0.1.15 in /home/catnip/.local/lib/python3.10/site-packages (from scrapy) (0.3.1)\n",
      "Requirement already satisfied: itemadapter>=0.1.0 in /home/catnip/.local/lib/python3.10/site-packages (from scrapy) (0.10.0)\n",
      "Requirement already satisfied: packaging in /home/catnip/.local/lib/python3.10/site-packages (from scrapy) (23.1)\n",
      "Requirement already satisfied: tldextract in /home/catnip/.local/lib/python3.10/site-packages (from scrapy) (5.1.3)\n",
      "Requirement already satisfied: lxml>=4.6.0 in /usr/lib/python3/dist-packages (from scrapy) (4.8.0)\n",
      "Requirement already satisfied: defusedxml>=0.7.1 in /usr/lib/python3/dist-packages (from scrapy) (0.7.1)\n",
      "Requirement already satisfied: PyDispatcher>=2.0.5 in /home/catnip/.local/lib/python3.10/site-packages (from scrapy) (2.0.7)\n",
      "Requirement already satisfied: cffi>=1.12 in /home/catnip/.local/lib/python3.10/site-packages (from cryptography>=37.0.0->scrapy) (1.17.1)\n",
      "Requirement already satisfied: jmespath>=0.9.5 in /home/catnip/.local/lib/python3.10/site-packages (from itemloaders>=1.0.1->scrapy) (1.0.1)\n",
      "Requirement already satisfied: attrs>=19.1.0 in /home/catnip/.local/lib/python3.10/site-packages (from service-identity>=18.1.0->scrapy) (23.1.0)\n",
      "Requirement already satisfied: pyasn1 in /home/catnip/.local/lib/python3.10/site-packages (from service-identity>=18.1.0->scrapy) (0.5.0)\n",
      "Requirement already satisfied: pyasn1-modules in /home/catnip/.local/lib/python3.10/site-packages (from service-identity>=18.1.0->scrapy) (0.3.0)\n",
      "Requirement already satisfied: automat>=24.8.0 in /home/catnip/.local/lib/python3.10/site-packages (from Twisted>=21.7.0->scrapy) (24.8.1)\n",
      "Requirement already satisfied: constantly>=15.1 in /home/catnip/.local/lib/python3.10/site-packages (from Twisted>=21.7.0->scrapy) (23.10.4)\n",
      "Requirement already satisfied: hyperlink>=17.1.1 in /home/catnip/.local/lib/python3.10/site-packages (from Twisted>=21.7.0->scrapy) (21.0.0)\n",
      "Requirement already satisfied: incremental>=24.7.0 in /home/catnip/.local/lib/python3.10/site-packages (from Twisted>=21.7.0->scrapy) (24.7.2)\n",
      "Requirement already satisfied: typing-extensions>=4.2.0 in /home/catnip/.local/lib/python3.10/site-packages (from Twisted>=21.7.0->scrapy) (4.12.2)\n",
      "Requirement already satisfied: setuptools in /home/catnip/.local/lib/python3.10/site-packages (from zope.interface>=5.1.0->scrapy) (75.6.0)\n",
      "Requirement already satisfied: idna in /usr/lib/python3/dist-packages (from tldextract->scrapy) (3.3)\n",
      "Requirement already satisfied: requests>=2.1.0 in /usr/lib/python3/dist-packages (from tldextract->scrapy) (2.25.1)\n",
      "Requirement already satisfied: requests-file>=1.4 in /home/catnip/.local/lib/python3.10/site-packages (from tldextract->scrapy) (2.1.0)\n",
      "Requirement already satisfied: filelock>=3.0.8 in /home/catnip/.local/lib/python3.10/site-packages (from tldextract->scrapy) (3.16.1)\n",
      "Requirement already satisfied: pycparser in /home/catnip/.local/lib/python3.10/site-packages (from cffi>=1.12->cryptography>=37.0.0->scrapy) (2.22)\n",
      "Requirement already satisfied: tomli in /home/catnip/.local/lib/python3.10/site-packages (from incremental>=24.7.0->Twisted>=21.7.0->scrapy) (2.2.1)\n",
      "\u001b[33mWARNING: Error parsing dependencies of send2trash: Expected matching RIGHT_PARENTHESIS for LEFT_PARENTHESIS, after version specifier\n",
      "    sys-platform (==\"darwin\") ; extra == 'objc'\n",
      "                 ~^\u001b[0m\u001b[33m\n",
      "\u001b[0mNote: you may need to restart the kernel to use updated packages.\n"
     ]
    }
   ],
   "source": [
    "%pip install scrapy"
   ]
  },
  {
   "cell_type": "code",
   "execution_count": 1,
   "metadata": {},
   "outputs": [
    {
     "name": "stdout",
     "output_type": "stream",
     "text": [
      "Image URL: https://rukminim2.flixcart.com/image/416/416/xif0q/tablet/2/h/u/-original-imah5vxu9neqhuvf.jpeg?q=70&crop=false\n",
      "Image downloaded successfully as downloaded_image.jpeg\n"
     ]
    }
   ],
   "source": [
    "import scrapy\n",
    "from scrapy.crawler import CrawlerProcess\n",
    "import requests\n",
    "\n",
    "class ImageSpider(scrapy.Spider):\n",
    "    name = \"image_spider\"\n",
    "    start_urls = [\n",
    "        \"https://www.flipkart.com/pexpo-1000-ml-24-hrs-hot-cold-isi-certified-bravo-vacuum-insulated-water-bottle-ml-flask/p/itme275d8cc88f0c?pid=BOTGUZCHTNFC4CJM&lid=LSTBOTGUZCHTNFC4CJMJEXM0D&marketplace=FLIPKART&q=bottle&store=upp%2F3t7&srno=s_1_2&otracker=search&otracker1=search&fm=Search&iid=en_v5nuBhKGPMHyy4gFHUZhIF5tHN2qpkYP-98olYLCxnsi-_VD3umMrDlxcCDmv6tu1w6BDv4fbtdvFCH-vaP7Mw%3D%3D&ppt=sp&ppn=sp&ssid=a60a363av40000001734542441304&qH=3a385ac07dcec4dd\"\n",
    "    ]\n",
    "\n",
    "    def parse(self, response):\n",
    "        # Extract the src attribute of the image with the given class\n",
    "        image_src = response.css(\".DByuf4.IZexXJ.jLEJ7H::attr(src)\").get()\n",
    "        if image_src:\n",
    "            print(f\"Image URL: {image_src}\")\n",
    "            \n",
    "            # Download the image\n",
    "            self.download_image(image_src, \"downloaded_image.jpeg\")\n",
    "\n",
    "    def download_image(self, url, filename):\n",
    "        response = requests.get(url, stream=True)\n",
    "        if response.status_code == 200:\n",
    "            with open(filename, \"wb\") as file:\n",
    "                for chunk in response.iter_content(1024):\n",
    "                    file.write(chunk)\n",
    "            print(f\"Image downloaded successfully as {filename}\")\n",
    "        else:\n",
    "            print(\"Failed to download the image.\")\n",
    "\n",
    "def run_spider():\n",
    "    process = CrawlerProcess({\n",
    "        'LOG_LEVEL': 'ERROR',  # Hide logs\n",
    "    })\n",
    "    process.crawl(ImageSpider)\n",
    "    process.start()\n",
    "\n",
    "if __name__ == \"__main__\":\n",
    "    run_spider()\n"
   ]
  },
  {
   "cell_type": "code",
   "execution_count": 1,
   "metadata": {},
   "outputs": [],
   "source": [
    "from ultralytics import YOLO\n"
   ]
  },
  {
   "cell_type": "code",
   "execution_count": 2,
   "metadata": {},
   "outputs": [],
   "source": [
    "model = YOLO(\"yolov8n.pt\") "
   ]
  },
  {
   "cell_type": "code",
   "execution_count": 6,
   "metadata": {},
   "outputs": [
    {
     "name": "stdout",
     "output_type": "stream",
     "text": [
      "\n",
      "image 1/1 /home/catnip/Desktop/college/dsc/roundTwo/server/downloaded_image.jpeg: 480x640 (no detections), 333.2ms\n",
      "Speed: 4.9ms preprocess, 333.2ms inference, 0.9ms postprocess per image at shape (1, 3, 480, 640)\n"
     ]
    },
    {
     "data": {
      "text/plain": [
       "[ultralytics.engine.results.Results object with attributes:\n",
       " \n",
       " boxes: ultralytics.engine.results.Boxes object\n",
       " keypoints: None\n",
       " masks: None\n",
       " names: {0: 'person', 1: 'bicycle', 2: 'car', 3: 'motorcycle', 4: 'airplane', 5: 'bus', 6: 'train', 7: 'truck', 8: 'boat', 9: 'traffic light', 10: 'fire hydrant', 11: 'stop sign', 12: 'parking meter', 13: 'bench', 14: 'bird', 15: 'cat', 16: 'dog', 17: 'horse', 18: 'sheep', 19: 'cow', 20: 'elephant', 21: 'bear', 22: 'zebra', 23: 'giraffe', 24: 'backpack', 25: 'umbrella', 26: 'handbag', 27: 'tie', 28: 'suitcase', 29: 'frisbee', 30: 'skis', 31: 'snowboard', 32: 'sports ball', 33: 'kite', 34: 'baseball bat', 35: 'baseball glove', 36: 'skateboard', 37: 'surfboard', 38: 'tennis racket', 39: 'bottle', 40: 'wine glass', 41: 'cup', 42: 'fork', 43: 'knife', 44: 'spoon', 45: 'bowl', 46: 'banana', 47: 'apple', 48: 'sandwich', 49: 'orange', 50: 'broccoli', 51: 'carrot', 52: 'hot dog', 53: 'pizza', 54: 'donut', 55: 'cake', 56: 'chair', 57: 'couch', 58: 'potted plant', 59: 'bed', 60: 'dining table', 61: 'toilet', 62: 'tv', 63: 'laptop', 64: 'mouse', 65: 'remote', 66: 'keyboard', 67: 'cell phone', 68: 'microwave', 69: 'oven', 70: 'toaster', 71: 'sink', 72: 'refrigerator', 73: 'book', 74: 'clock', 75: 'vase', 76: 'scissors', 77: 'teddy bear', 78: 'hair drier', 79: 'toothbrush'}\n",
       " obb: None\n",
       " orig_img: array([[[255, 255, 255],\n",
       "         [255, 255, 255],\n",
       "         [255, 255, 255],\n",
       "         ...,\n",
       "         [255, 255, 255],\n",
       "         [255, 254, 255],\n",
       "         [255, 254, 255]],\n",
       " \n",
       "        [[255, 255, 255],\n",
       "         [255, 255, 255],\n",
       "         [255, 255, 255],\n",
       "         ...,\n",
       "         [255, 255, 255],\n",
       "         [255, 254, 255],\n",
       "         [255, 254, 255]],\n",
       " \n",
       "        [[255, 255, 255],\n",
       "         [255, 255, 255],\n",
       "         [255, 255, 255],\n",
       "         ...,\n",
       "         [255, 255, 255],\n",
       "         [255, 254, 255],\n",
       "         [255, 254, 255]],\n",
       " \n",
       "        ...,\n",
       " \n",
       "        [[254, 254, 254],\n",
       "         [254, 254, 254],\n",
       "         [254, 254, 254],\n",
       "         ...,\n",
       "         [255, 255, 255],\n",
       "         [255, 255, 255],\n",
       "         [255, 255, 255]],\n",
       " \n",
       "        [[254, 254, 254],\n",
       "         [254, 254, 254],\n",
       "         [254, 254, 254],\n",
       "         ...,\n",
       "         [255, 255, 255],\n",
       "         [255, 255, 255],\n",
       "         [255, 255, 255]],\n",
       " \n",
       "        [[254, 254, 254],\n",
       "         [254, 254, 254],\n",
       "         [254, 254, 254],\n",
       "         ...,\n",
       "         [255, 255, 255],\n",
       "         [255, 255, 255],\n",
       "         [255, 255, 255]]], dtype=uint8)\n",
       " orig_shape: (294, 416)\n",
       " path: '/home/catnip/Desktop/college/dsc/roundTwo/server/downloaded_image.jpeg'\n",
       " probs: None\n",
       " save_dir: 'runs/detect/predict'\n",
       " speed: {'preprocess': 4.939079284667969, 'inference': 333.1789970397949, 'postprocess': 0.8533000946044922}]"
      ]
     },
     "execution_count": 6,
     "metadata": {},
     "output_type": "execute_result"
    },
    {
     "ename": "",
     "evalue": "",
     "output_type": "error",
     "traceback": [
      "\u001b[1;31mThe Kernel crashed while executing code in the current cell or a previous cell. \n",
      "\u001b[1;31mPlease review the code in the cell(s) to identify a possible cause of the failure. \n",
      "\u001b[1;31mClick <a href='https://aka.ms/vscodeJupyterKernelCrash'>here</a> for more info. \n",
      "\u001b[1;31mView Jupyter <a href='command:jupyter.viewOutput'>log</a> for further details."
     ]
    }
   ],
   "source": [
    "model(source=\"/home/catnip/Desktop/college/dsc/roundTwo/server/downloaded_image.jpeg\", show=True)"
   ]
  }
 ],
 "metadata": {
  "kernelspec": {
   "display_name": "Python 3",
   "language": "python",
   "name": "python3"
  },
  "language_info": {
   "codemirror_mode": {
    "name": "ipython",
    "version": 3
   },
   "file_extension": ".py",
   "mimetype": "text/x-python",
   "name": "python",
   "nbconvert_exporter": "python",
   "pygments_lexer": "ipython3",
   "version": "3.10.12"
  }
 },
 "nbformat": 4,
 "nbformat_minor": 2
}
